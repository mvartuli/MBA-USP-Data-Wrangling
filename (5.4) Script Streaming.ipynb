{
 "cells": [
  {
   "cell_type": "code",
   "execution_count": null,
   "metadata": {
    "id": "erKKsx_qE3gU"
   },
   "outputs": [],
   "source": [
    "# Data Wrangling\n",
    "# MBA em Data Science e Analytics USP/ESALQ\n",
    "\n",
    "# Prof. Dr. Wilson Tarantin Junior\n",
    "\n",
    "# Atividade nº 5 - Datasets de filmes e séries\n",
    "\n",
    "# Os datasets contêm avaliações de filmes e séries disponíveis em streamings\n",
    "# Fonte: https://www.kaggle.com/datasets/ruchi798/tv-shows-on-netflix-prime-video-hulu-and-disney"
   ]
  },
  {
   "cell_type": "code",
   "execution_count": null,
   "metadata": {
    "id": "uWZtTcujHXfN"
   },
   "outputs": [],
   "source": [
    "# Instalando os pacotes\n",
    "\n",
    "!pip install pandas"
   ]
  },
  {
   "cell_type": "code",
   "execution_count": 1,
   "metadata": {
    "id": "Z7-mYlz0HkjW"
   },
   "outputs": [],
   "source": [
    "# Carregando os pacotes\n",
    "\n",
    "import pandas as pd\n",
    "from google.colab import data_table\n",
    "data_table.enable_dataframe_formatter()"
   ]
  },
  {
   "cell_type": "code",
   "execution_count": null,
   "metadata": {
    "id": "Jr8AMs9KHex7"
   },
   "outputs": [],
   "source": [
    "# Carregando os datasets\n",
    "\n",
    "dados_filmes = pd.read_csv('(5.2) Filmes Streaming.csv', sep=',')\n",
    "dados_series = pd.read_csv('(5.3) Séries Streaming.csv', sep=',')\n",
    "\n",
    "dados_filmes.info()\n",
    "dados_series.info()\n",
    "\n",
    "dados_filmes\n",
    "\n",
    "dados_series"
   ]
  },
  {
   "cell_type": "code",
   "execution_count": null,
   "metadata": {
    "id": "SL6Iu0-oHrTv"
   },
   "outputs": [],
   "source": [
    "# Selecionado colunas e realizando a junção dos bancos de dados\n",
    "\n",
    "# Os dois datasets têm estruturas semelhantes quanto às variáveis\n",
    "# Porém, o dataset sobre filmes tem colunas a mais\n",
    "# Vamos fazer uma rápida organização dos datasets e juntá-los\n",
    "\n",
    "# Seleção das variáveis de interesse\n",
    "dados_filmes = dados_filmes.iloc[:,0:12]\n",
    "\n",
    "# Junção dos dados\n",
    "dados_completo = pd.concat([dados_filmes, dados_series], ignore_index=True)\n",
    "\n",
    "# Remoção de variável\n",
    "dados_completo.drop(columns=['Unnamed: 0'], inplace=True)\n",
    "\n",
    "dados_completo"
   ]
  },
  {
   "cell_type": "code",
   "execution_count": null,
   "metadata": {
    "id": "_jc6cJK6HzgY"
   },
   "outputs": [],
   "source": [
    "# Extrair as notas do texto\n",
    "\n",
    "# Extrair as notas\n",
    "dados_completo['Ajuste_IMDB'] = dados_completo['IMDb'].str.slice(0, 4)\n",
    "dados_completo['Ajuste_Rotten'] = dados_completo['Rotten Tomatoes'].str.slice(0, 3)\n",
    "\n",
    "# Ajustar a string e transformar para float\n",
    "dados_completo['Ajuste_IMDB'] = dados_completo['Ajuste_IMDB'].str.rstrip('/').astype('float')\n",
    "dados_completo['Ajuste_Rotten'] = dados_completo['Ajuste_Rotten'].str.rstrip('/').astype('float')\n",
    "\n",
    "# A função str.rstrip() remove o caractere ao final da string\n",
    "\n",
    "dados_completo"
   ]
  },
  {
   "cell_type": "code",
   "execution_count": null,
   "metadata": {
    "id": "rYNrac11H62B"
   },
   "outputs": [],
   "source": [
    "# Gerando estatísticas sobre as notas\n",
    "\n",
    "# Atribuindo labels\n",
    "muda_numeros = {0: 'filme', 1: 'série'}\n",
    "dados_completo = dados_completo.assign(tipo = dados_completo.Type.map(muda_numeros))\n",
    "\n",
    "# Agrupando o dataset\n",
    "descritivas = dados_completo.groupby(['tipo'])\n",
    "\n",
    "# Gerando estatísticas por variável\n",
    "descritivas['Ajuste_IMDB'].describe().T\n",
    "descritivas['Ajuste_Rotten'].describe().T"
   ]
  },
  {
   "cell_type": "code",
   "execution_count": 16,
   "metadata": {
    "id": "ckrxtb4GICJL"
   },
   "outputs": [],
   "source": [
    "# Criando um indicador dos \"melhores\" filmes e séries\n",
    "\n",
    "# Separando o banco de dados\n",
    "melhores_series = dados_completo[dados_completo['tipo']=='série']\n",
    "melhores_filmes = dados_completo[dados_completo['tipo']=='filme']"
   ]
  },
  {
   "cell_type": "code",
   "execution_count": null,
   "metadata": {
    "id": "L_b-cJxsIHSY"
   },
   "outputs": [],
   "source": [
    "# Séries\n",
    "\n",
    "# Vamos identificar aqueles que estão com melhores notas nas duas avaliações\n",
    "# Vamos usar o percentil 95 das notas como referência\n",
    "melhores_series[['Ajuste_IMDB', 'Ajuste_Rotten']].quantile(0.95)\n",
    "\n",
    "# Gerando os dados\n",
    "\n",
    "melhores_series = melhores_series.assign(Categ_IMDB = pd.qcut(melhores_series.Ajuste_IMDB,\n",
    "                                                              q=[0, 0.95, 1.0],\n",
    "                                                              labels=['menores',\n",
    "                                                                      'maiores']))\n",
    "\n",
    "melhores_series = melhores_series.assign(Categ_Rotten = pd.qcut(melhores_series.Ajuste_Rotten,\n",
    "                                                                q=[0, 0.95, 1.0],\n",
    "                                                                labels=['menores',\n",
    "                                                                        'maiores']))\n",
    "\n",
    "melhores_series = melhores_series[(melhores_series['Categ_IMDB']=='maiores') &\n",
    "                                  (melhores_series['Categ_Rotten']=='maiores')].sort_values(['Ajuste_Rotten', 'Ajuste_IMDB'], ascending=False)\n",
    "\n",
    "\n",
    "melhores_series"
   ]
  },
  {
   "cell_type": "code",
   "execution_count": null,
   "metadata": {
    "id": "5-fKHheQIMT-"
   },
   "outputs": [],
   "source": [
    "# Filmes\n",
    "\n",
    "# Vamos identificar aqueles que estão com melhores notas nas duas avaliações\n",
    "# Vamos usar o percentil 95 das notas como referência\n",
    "melhores_filmes[['Ajuste_IMDB', 'Ajuste_Rotten']].quantile(0.95)\n",
    "\n",
    "# Gerando os dados\n",
    "\n",
    "melhores_filmes = melhores_filmes.assign(Categ_IMDB = pd.qcut(melhores_filmes.Ajuste_IMDB,\n",
    "                                                              q=[0, 0.95, 1.0],\n",
    "                                                              labels=['menores',\n",
    "                                                                      'maiores']))\n",
    "\n",
    "melhores_filmes = melhores_filmes.assign(Categ_Rotten = pd.qcut(melhores_filmes.Ajuste_Rotten,\n",
    "                                                                q=[0, 0.95, 1.0],\n",
    "                                                                labels=['menores',\n",
    "                                                                        'maiores']))\n",
    "\n",
    "melhores_filmes = melhores_filmes[(melhores_filmes['Categ_IMDB']=='maiores') &\n",
    "                                  (melhores_filmes['Categ_Rotten']=='maiores')].sort_values(['Ajuste_IMDB', 'Ajuste_Rotten'], ascending=False)\n",
    "\n",
    "\n",
    "melhores_filmes"
   ]
  },
  {
   "cell_type": "code",
   "execution_count": null,
   "metadata": {
    "id": "v12cDa00IX9Q"
   },
   "outputs": [],
   "source": [
    "# FIM!"
   ]
  }
 ],
 "metadata": {
  "colab": {
   "provenance": []
  },
  "kernelspec": {
   "display_name": "mba",
   "language": "python",
   "name": "python3"
  },
  "language_info": {
   "name": "python",
   "version": "3.12.7"
  }
 },
 "nbformat": 4,
 "nbformat_minor": 0
}
